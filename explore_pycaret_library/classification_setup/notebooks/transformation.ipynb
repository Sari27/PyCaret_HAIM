{
 "cells": [
  {
   "cell_type": "markdown",
   "metadata": {
    "collapsed": true,
    "pycharm": {
     "name": "#%% md\n"
    }
   },
   "source": [
    "# Exploration of PyCaret Setup attributes : Transformation\n",
    "\n",
    "In this notebook we explore the PyCaret Setup attributes through the HAIM Edema experiment and visualize their impact on results.\n",
    "\n",
    "PyCaret documentation :\n",
    "- setup() function from Classification module : https://pycaret.readthedocs.io/en/stable/api/classification.html#pycaret.classification.setup\n",
    "- Data Preprocessing : https://pycaret.gitbook.io/docs/get-started/preprocessing\n",
    "- Classification module : https://pycaret.readthedocs.io/en/stable/api/classification.html\n",
    "- Home : https://pycaret.readthedocs.io/en/stable/\n",
    "\n",
    "The transformation attribute :\n",
    "\n",
    "*bool, default = False*\n",
    "\n",
    "When set to True, it applies the power transform to make data more Gaussian-like. Type of transformation is defined by the `transformation_method` parameter."
   ]
  },
  {
   "cell_type": "markdown",
   "metadata": {
    "pycharm": {
     "name": "#%% md\n"
    }
   },
   "source": [
    "## Settings"
   ]
  },
  {
   "cell_type": "code",
   "execution_count": 1,
   "metadata": {
    "pycharm": {
     "name": "#%%\n"
    }
   },
   "outputs": [],
   "source": [
    "# Import\n",
    "from utils import *\n",
    "from pycaret.classification import ClassificationExperiment\n",
    "from sklearn.model_selection import StratifiedGroupKFold"
   ]
  },
  {
   "cell_type": "code",
   "execution_count": 2,
   "metadata": {
    "pycharm": {
     "name": "#%%\n"
    }
   },
   "outputs": [],
   "source": [
    "# Load data\n",
    "df = get_experiment_df()"
   ]
  },
  {
   "cell_type": "markdown",
   "metadata": {
    "pycharm": {
     "name": "#%% md\n"
    }
   },
   "source": [
    "## Setup"
   ]
  },
  {
   "cell_type": "code",
   "execution_count": 3,
   "metadata": {
    "pycharm": {
     "name": "#%%\n"
    }
   },
   "outputs": [
    {
     "data": {
      "text/html": [
       "<style type=\"text/css\">\n",
       "#T_8dda8_row8_col1, #T_8dda8_row12_col1 {\n",
       "  background-color: lightgreen;\n",
       "}\n",
       "</style>\n",
       "<table id=\"T_8dda8\">\n",
       "  <thead>\n",
       "    <tr>\n",
       "      <th class=\"blank level0\" >&nbsp;</th>\n",
       "      <th id=\"T_8dda8_level0_col0\" class=\"col_heading level0 col0\" >Description</th>\n",
       "      <th id=\"T_8dda8_level0_col1\" class=\"col_heading level0 col1\" >Value</th>\n",
       "    </tr>\n",
       "  </thead>\n",
       "  <tbody>\n",
       "    <tr>\n",
       "      <th id=\"T_8dda8_level0_row0\" class=\"row_heading level0 row0\" >0</th>\n",
       "      <td id=\"T_8dda8_row0_col0\" class=\"data row0 col0\" >Session id</td>\n",
       "      <td id=\"T_8dda8_row0_col1\" class=\"data row0 col1\" >6835</td>\n",
       "    </tr>\n",
       "    <tr>\n",
       "      <th id=\"T_8dda8_level0_row1\" class=\"row_heading level0 row1\" >1</th>\n",
       "      <td id=\"T_8dda8_row1_col0\" class=\"data row1 col0\" >Target</td>\n",
       "      <td id=\"T_8dda8_row1_col1\" class=\"data row1 col1\" >Fracture</td>\n",
       "    </tr>\n",
       "    <tr>\n",
       "      <th id=\"T_8dda8_level0_row2\" class=\"row_heading level0 row2\" >2</th>\n",
       "      <td id=\"T_8dda8_row2_col0\" class=\"data row2 col0\" >Target type</td>\n",
       "      <td id=\"T_8dda8_row2_col1\" class=\"data row2 col1\" >Binary</td>\n",
       "    </tr>\n",
       "    <tr>\n",
       "      <th id=\"T_8dda8_level0_row3\" class=\"row_heading level0 row3\" >3</th>\n",
       "      <td id=\"T_8dda8_row3_col0\" class=\"data row3 col0\" >Original data shape</td>\n",
       "      <td id=\"T_8dda8_row3_col1\" class=\"data row3 col1\" >(557, 4079)</td>\n",
       "    </tr>\n",
       "    <tr>\n",
       "      <th id=\"T_8dda8_level0_row4\" class=\"row_heading level0 row4\" >4</th>\n",
       "      <td id=\"T_8dda8_row4_col0\" class=\"data row4 col0\" >Transformed data shape</td>\n",
       "      <td id=\"T_8dda8_row4_col1\" class=\"data row4 col1\" >(557, 4079)</td>\n",
       "    </tr>\n",
       "    <tr>\n",
       "      <th id=\"T_8dda8_level0_row5\" class=\"row_heading level0 row5\" >5</th>\n",
       "      <td id=\"T_8dda8_row5_col0\" class=\"data row5 col0\" >Transformed train set shape</td>\n",
       "      <td id=\"T_8dda8_row5_col1\" class=\"data row5 col1\" >(445, 4079)</td>\n",
       "    </tr>\n",
       "    <tr>\n",
       "      <th id=\"T_8dda8_level0_row6\" class=\"row_heading level0 row6\" >6</th>\n",
       "      <td id=\"T_8dda8_row6_col0\" class=\"data row6 col0\" >Transformed test set shape</td>\n",
       "      <td id=\"T_8dda8_row6_col1\" class=\"data row6 col1\" >(112, 4079)</td>\n",
       "    </tr>\n",
       "    <tr>\n",
       "      <th id=\"T_8dda8_level0_row7\" class=\"row_heading level0 row7\" >7</th>\n",
       "      <td id=\"T_8dda8_row7_col0\" class=\"data row7 col0\" >Numeric features</td>\n",
       "      <td id=\"T_8dda8_row7_col1\" class=\"data row7 col1\" >4078</td>\n",
       "    </tr>\n",
       "    <tr>\n",
       "      <th id=\"T_8dda8_level0_row8\" class=\"row_heading level0 row8\" >8</th>\n",
       "      <td id=\"T_8dda8_row8_col0\" class=\"data row8 col0\" >Preprocess</td>\n",
       "      <td id=\"T_8dda8_row8_col1\" class=\"data row8 col1\" >True</td>\n",
       "    </tr>\n",
       "    <tr>\n",
       "      <th id=\"T_8dda8_level0_row9\" class=\"row_heading level0 row9\" >9</th>\n",
       "      <td id=\"T_8dda8_row9_col0\" class=\"data row9 col0\" >Imputation type</td>\n",
       "      <td id=\"T_8dda8_row9_col1\" class=\"data row9 col1\" >simple</td>\n",
       "    </tr>\n",
       "    <tr>\n",
       "      <th id=\"T_8dda8_level0_row10\" class=\"row_heading level0 row10\" >10</th>\n",
       "      <td id=\"T_8dda8_row10_col0\" class=\"data row10 col0\" >Numeric imputation</td>\n",
       "      <td id=\"T_8dda8_row10_col1\" class=\"data row10 col1\" >mean</td>\n",
       "    </tr>\n",
       "    <tr>\n",
       "      <th id=\"T_8dda8_level0_row11\" class=\"row_heading level0 row11\" >11</th>\n",
       "      <td id=\"T_8dda8_row11_col0\" class=\"data row11 col0\" >Categorical imputation</td>\n",
       "      <td id=\"T_8dda8_row11_col1\" class=\"data row11 col1\" >mode</td>\n",
       "    </tr>\n",
       "    <tr>\n",
       "      <th id=\"T_8dda8_level0_row12\" class=\"row_heading level0 row12\" >12</th>\n",
       "      <td id=\"T_8dda8_row12_col0\" class=\"data row12 col0\" >Transformation</td>\n",
       "      <td id=\"T_8dda8_row12_col1\" class=\"data row12 col1\" >True</td>\n",
       "    </tr>\n",
       "    <tr>\n",
       "      <th id=\"T_8dda8_level0_row13\" class=\"row_heading level0 row13\" >13</th>\n",
       "      <td id=\"T_8dda8_row13_col0\" class=\"data row13 col0\" >Transformation method</td>\n",
       "      <td id=\"T_8dda8_row13_col1\" class=\"data row13 col1\" >yeo-johnson</td>\n",
       "    </tr>\n",
       "    <tr>\n",
       "      <th id=\"T_8dda8_level0_row14\" class=\"row_heading level0 row14\" >14</th>\n",
       "      <td id=\"T_8dda8_row14_col0\" class=\"data row14 col0\" >Fold Generator</td>\n",
       "      <td id=\"T_8dda8_row14_col1\" class=\"data row14 col1\" >StratifiedGroupKFold</td>\n",
       "    </tr>\n",
       "    <tr>\n",
       "      <th id=\"T_8dda8_level0_row15\" class=\"row_heading level0 row15\" >15</th>\n",
       "      <td id=\"T_8dda8_row15_col0\" class=\"data row15 col0\" >Fold Number</td>\n",
       "      <td id=\"T_8dda8_row15_col1\" class=\"data row15 col1\" >5</td>\n",
       "    </tr>\n",
       "    <tr>\n",
       "      <th id=\"T_8dda8_level0_row16\" class=\"row_heading level0 row16\" >16</th>\n",
       "      <td id=\"T_8dda8_row16_col0\" class=\"data row16 col0\" >CPU Jobs</td>\n",
       "      <td id=\"T_8dda8_row16_col1\" class=\"data row16 col1\" >-1</td>\n",
       "    </tr>\n",
       "    <tr>\n",
       "      <th id=\"T_8dda8_level0_row17\" class=\"row_heading level0 row17\" >17</th>\n",
       "      <td id=\"T_8dda8_row17_col0\" class=\"data row17 col0\" >Use GPU</td>\n",
       "      <td id=\"T_8dda8_row17_col1\" class=\"data row17 col1\" >False</td>\n",
       "    </tr>\n",
       "    <tr>\n",
       "      <th id=\"T_8dda8_level0_row18\" class=\"row_heading level0 row18\" >18</th>\n",
       "      <td id=\"T_8dda8_row18_col0\" class=\"data row18 col0\" >Log Experiment</td>\n",
       "      <td id=\"T_8dda8_row18_col1\" class=\"data row18 col1\" >False</td>\n",
       "    </tr>\n",
       "    <tr>\n",
       "      <th id=\"T_8dda8_level0_row19\" class=\"row_heading level0 row19\" >19</th>\n",
       "      <td id=\"T_8dda8_row19_col0\" class=\"data row19 col0\" >Experiment Name</td>\n",
       "      <td id=\"T_8dda8_row19_col1\" class=\"data row19 col1\" >clf-default-name</td>\n",
       "    </tr>\n",
       "    <tr>\n",
       "      <th id=\"T_8dda8_level0_row20\" class=\"row_heading level0 row20\" >20</th>\n",
       "      <td id=\"T_8dda8_row20_col0\" class=\"data row20 col0\" >USI</td>\n",
       "      <td id=\"T_8dda8_row20_col1\" class=\"data row20 col1\" >35df</td>\n",
       "    </tr>\n",
       "  </tbody>\n",
       "</table>\n"
      ],
      "text/plain": [
       "<pandas.io.formats.style.Styler at 0x7fbfcd011130>"
      ]
     },
     "metadata": {},
     "output_type": "display_data"
    },
    {
     "data": {
      "text/plain": [
       "<pycaret.classification.oop.ClassificationExperiment at 0x7fbfe7ee8940>"
      ]
     },
     "execution_count": 3,
     "metadata": {},
     "output_type": "execute_result"
    }
   ],
   "source": [
    "exp = ClassificationExperiment()\n",
    "exp.setup(df, target=EXPERIMENT, train_size=0.8, fold_strategy=StratifiedGroupKFold(), fold_groups='haim_id', fold=5, transformation=True)"
   ]
  },
  {
   "cell_type": "markdown",
   "metadata": {
    "pycharm": {
     "name": "#%% md\n"
    }
   },
   "source": [
    "## Create model"
   ]
  },
  {
   "cell_type": "code",
   "execution_count": 4,
   "metadata": {
    "pycharm": {
     "name": "#%%\n"
    }
   },
   "outputs": [
    {
     "data": {
      "text/html": [
       "<div>\n",
       "<style scoped>\n",
       "    .dataframe tbody tr th:only-of-type {\n",
       "        vertical-align: middle;\n",
       "    }\n",
       "\n",
       "    .dataframe tbody tr th {\n",
       "        vertical-align: top;\n",
       "    }\n",
       "\n",
       "    .dataframe thead th {\n",
       "        text-align: right;\n",
       "    }\n",
       "</style>\n",
       "<table border=\"1\" class=\"dataframe\">\n",
       "  <thead>\n",
       "    <tr style=\"text-align: right;\">\n",
       "      <th></th>\n",
       "      <th></th>\n",
       "      <th></th>\n",
       "    </tr>\n",
       "    <tr>\n",
       "      <th></th>\n",
       "      <th></th>\n",
       "      <th></th>\n",
       "    </tr>\n",
       "  </thead>\n",
       "  <tbody>\n",
       "    <tr>\n",
       "      <th>Initiated</th>\n",
       "      <td>. . . . . . . . . . . . . . . . . .</td>\n",
       "      <td>16:44:19</td>\n",
       "    </tr>\n",
       "    <tr>\n",
       "      <th>Status</th>\n",
       "      <td>. . . . . . . . . . . . . . . . . .</td>\n",
       "      <td>Fitting 5 Folds</td>\n",
       "    </tr>\n",
       "    <tr>\n",
       "      <th>Estimator</th>\n",
       "      <td>. . . . . . . . . . . . . . . . . .</td>\n",
       "      <td>Extreme Gradient Boosting</td>\n",
       "    </tr>\n",
       "  </tbody>\n",
       "</table>\n",
       "</div>"
      ],
      "text/plain": [
       "                                                                         \n",
       "                                                                         \n",
       "Initiated  . . . . . . . . . . . . . . . . . .                   16:44:19\n",
       "Status     . . . . . . . . . . . . . . . . . .            Fitting 5 Folds\n",
       "Estimator  . . . . . . . . . . . . . . . . . .  Extreme Gradient Boosting"
      ]
     },
     "metadata": {},
     "output_type": "display_data"
    },
    {
     "data": {
      "text/html": [],
      "text/plain": [
       "<IPython.core.display.HTML object>"
      ]
     },
     "metadata": {},
     "output_type": "display_data"
    },
    {
     "data": {
      "application/vnd.jupyter.widget-view+json": {
       "model_id": "f1c6371bab9441569b9560a43aab2256",
       "version_major": 2,
       "version_minor": 0
      },
      "text/plain": [
       "Processing:   0%|          | 0/4 [00:00<?, ?it/s]"
      ]
     },
     "metadata": {},
     "output_type": "display_data"
    },
    {
     "ename": "ValueError",
     "evalue": "\nAll the 5 fits failed.\nIt is very likely that your model is misconfigured.\nYou can try to debug the error by setting error_score='raise'.\n\nBelow are more details about the failures:\n--------------------------------------------------------------------------------\n1 fits failed with the following error:\nTraceback (most recent call last):\n  File \"/home/local/USHERBROOKE/dens1704/Documents/PyCaret_HAIM/venv/lib/python3.8/site-packages/sklearn/model_selection/_validation.py\", line 686, in _fit_and_score\n    estimator.fit(X_train, y_train, **fit_params)\n  File \"/home/local/USHERBROOKE/dens1704/Documents/PyCaret_HAIM/venv/lib/python3.8/site-packages/pycaret/internal/pipeline.py\", line 260, in fit\n    fitted_estimator = self._memory_fit(\n  File \"/home/local/USHERBROOKE/dens1704/Documents/PyCaret_HAIM/venv/lib/python3.8/site-packages/joblib/memory.py\", line 655, in __call__\n    return self._cached_call(args, kwargs)[0]\n  File \"/home/local/USHERBROOKE/dens1704/Documents/PyCaret_HAIM/venv/lib/python3.8/site-packages/pycaret/internal/memory.py\", line 398, in _cached_call\n    out, metadata = self.call(*args, **kwargs)\n  File \"/home/local/USHERBROOKE/dens1704/Documents/PyCaret_HAIM/venv/lib/python3.8/site-packages/pycaret/internal/memory.py\", line 309, in call\n    output = self.func(*args, **kwargs)\n  File \"/home/local/USHERBROOKE/dens1704/Documents/PyCaret_HAIM/venv/lib/python3.8/site-packages/pycaret/internal/pipeline.py\", line 66, in _fit_one\n    transformer.fit(*args, **fit_params)\n  File \"/home/local/USHERBROOKE/dens1704/Documents/PyCaret_HAIM/venv/lib/python3.8/site-packages/xgboost/core.py\", line 620, in inner_f\n    return func(**kwargs)\n  File \"/home/local/USHERBROOKE/dens1704/Documents/PyCaret_HAIM/venv/lib/python3.8/site-packages/xgboost/sklearn.py\", line 1471, in fit\n    train_dmatrix, evals = _wrap_evaluation_matrices(\n  File \"/home/local/USHERBROOKE/dens1704/Documents/PyCaret_HAIM/venv/lib/python3.8/site-packages/xgboost/sklearn.py\", line 448, in _wrap_evaluation_matrices\n    train_dmatrix = create_dmatrix(\n  File \"/home/local/USHERBROOKE/dens1704/Documents/PyCaret_HAIM/venv/lib/python3.8/site-packages/xgboost/sklearn.py\", line 908, in _create_dmatrix\n    return DMatrix(**kwargs, nthread=self.n_jobs)\n  File \"/home/local/USHERBROOKE/dens1704/Documents/PyCaret_HAIM/venv/lib/python3.8/site-packages/xgboost/core.py\", line 620, in inner_f\n    return func(**kwargs)\n  File \"/home/local/USHERBROOKE/dens1704/Documents/PyCaret_HAIM/venv/lib/python3.8/site-packages/xgboost/core.py\", line 743, in __init__\n    handle, feature_names, feature_types = dispatch_data_backend(\n  File \"/home/local/USHERBROOKE/dens1704/Documents/PyCaret_HAIM/venv/lib/python3.8/site-packages/xgboost/data.py\", line 970, in dispatch_data_backend\n    return _from_pandas_df(data, enable_categorical, missing, threads,\n  File \"/home/local/USHERBROOKE/dens1704/Documents/PyCaret_HAIM/venv/lib/python3.8/site-packages/xgboost/data.py\", line 420, in _from_pandas_df\n    return _from_numpy_array(data, missing, nthread, feature_names, feature_types)\n  File \"/home/local/USHERBROOKE/dens1704/Documents/PyCaret_HAIM/venv/lib/python3.8/site-packages/xgboost/data.py\", line 213, in _from_numpy_array\n    _check_call(\n  File \"/home/local/USHERBROOKE/dens1704/Documents/PyCaret_HAIM/venv/lib/python3.8/site-packages/xgboost/core.py\", line 279, in _check_call\n    raise XGBoostError(py_str(_LIB.XGBGetLastError()))\nxgboost.core.XGBoostError: [16:44:26] ../src/data/data.cc:1104: Check failed: valid: Input data contains `inf` or `nan`\nStack trace:\n  [bt] (0) /home/local/USHERBROOKE/dens1704/Documents/PyCaret_HAIM/venv/lib/python3.8/site-packages/xgboost/lib/libxgboost.so(+0x20b1e3) [0x7f0ebaded1e3]\n  [bt] (1) /home/local/USHERBROOKE/dens1704/Documents/PyCaret_HAIM/venv/lib/python3.8/site-packages/xgboost/lib/libxgboost.so(+0x22ce51) [0x7f0ebae0ee51]\n  [bt] (2) /home/local/USHERBROOKE/dens1704/Documents/PyCaret_HAIM/venv/lib/python3.8/site-packages/xgboost/lib/libxgboost.so(+0x27e706) [0x7f0ebae60706]\n  [bt] (3) /home/local/USHERBROOKE/dens1704/Documents/PyCaret_HAIM/venv/lib/python3.8/site-packages/xgboost/lib/libxgboost.so(+0x220215) [0x7f0ebae02215]\n  [bt] (4) /home/local/USHERBROOKE/dens1704/Documents/PyCaret_HAIM/venv/lib/python3.8/site-packages/xgboost/lib/libxgboost.so(XGDMatrixCreateFromDense+0x329) [0x7f0ebad2ceb9]\n  [bt] (5) /lib/x86_64-linux-gnu/libffi.so.7(+0x6ff5) [0x7f0edf9b1ff5]\n  [bt] (6) /lib/x86_64-linux-gnu/libffi.so.7(+0x640a) [0x7f0edf9b140a]\n  [bt] (7) /usr/lib/python3.8/lib-dynload/_ctypes.cpython-38-x86_64-linux-gnu.so(_ctypes_callproc+0x5b6) [0x7f0edf9f9306]\n  [bt] (8) /usr/lib/python3.8/lib-dynload/_ctypes.cpython-38-x86_64-linux-gnu.so(+0x139dc) [0x7f0edf9f99dc]\n\n\n\n--------------------------------------------------------------------------------\n1 fits failed with the following error:\nTraceback (most recent call last):\n  File \"/home/local/USHERBROOKE/dens1704/Documents/PyCaret_HAIM/venv/lib/python3.8/site-packages/sklearn/model_selection/_validation.py\", line 686, in _fit_and_score\n    estimator.fit(X_train, y_train, **fit_params)\n  File \"/home/local/USHERBROOKE/dens1704/Documents/PyCaret_HAIM/venv/lib/python3.8/site-packages/pycaret/internal/pipeline.py\", line 260, in fit\n    fitted_estimator = self._memory_fit(\n  File \"/home/local/USHERBROOKE/dens1704/Documents/PyCaret_HAIM/venv/lib/python3.8/site-packages/joblib/memory.py\", line 655, in __call__\n    return self._cached_call(args, kwargs)[0]\n  File \"/home/local/USHERBROOKE/dens1704/Documents/PyCaret_HAIM/venv/lib/python3.8/site-packages/pycaret/internal/memory.py\", line 398, in _cached_call\n    out, metadata = self.call(*args, **kwargs)\n  File \"/home/local/USHERBROOKE/dens1704/Documents/PyCaret_HAIM/venv/lib/python3.8/site-packages/pycaret/internal/memory.py\", line 309, in call\n    output = self.func(*args, **kwargs)\n  File \"/home/local/USHERBROOKE/dens1704/Documents/PyCaret_HAIM/venv/lib/python3.8/site-packages/pycaret/internal/pipeline.py\", line 66, in _fit_one\n    transformer.fit(*args, **fit_params)\n  File \"/home/local/USHERBROOKE/dens1704/Documents/PyCaret_HAIM/venv/lib/python3.8/site-packages/xgboost/core.py\", line 620, in inner_f\n    return func(**kwargs)\n  File \"/home/local/USHERBROOKE/dens1704/Documents/PyCaret_HAIM/venv/lib/python3.8/site-packages/xgboost/sklearn.py\", line 1471, in fit\n    train_dmatrix, evals = _wrap_evaluation_matrices(\n  File \"/home/local/USHERBROOKE/dens1704/Documents/PyCaret_HAIM/venv/lib/python3.8/site-packages/xgboost/sklearn.py\", line 448, in _wrap_evaluation_matrices\n    train_dmatrix = create_dmatrix(\n  File \"/home/local/USHERBROOKE/dens1704/Documents/PyCaret_HAIM/venv/lib/python3.8/site-packages/xgboost/sklearn.py\", line 908, in _create_dmatrix\n    return DMatrix(**kwargs, nthread=self.n_jobs)\n  File \"/home/local/USHERBROOKE/dens1704/Documents/PyCaret_HAIM/venv/lib/python3.8/site-packages/xgboost/core.py\", line 620, in inner_f\n    return func(**kwargs)\n  File \"/home/local/USHERBROOKE/dens1704/Documents/PyCaret_HAIM/venv/lib/python3.8/site-packages/xgboost/core.py\", line 743, in __init__\n    handle, feature_names, feature_types = dispatch_data_backend(\n  File \"/home/local/USHERBROOKE/dens1704/Documents/PyCaret_HAIM/venv/lib/python3.8/site-packages/xgboost/data.py\", line 970, in dispatch_data_backend\n    return _from_pandas_df(data, enable_categorical, missing, threads,\n  File \"/home/local/USHERBROOKE/dens1704/Documents/PyCaret_HAIM/venv/lib/python3.8/site-packages/xgboost/data.py\", line 420, in _from_pandas_df\n    return _from_numpy_array(data, missing, nthread, feature_names, feature_types)\n  File \"/home/local/USHERBROOKE/dens1704/Documents/PyCaret_HAIM/venv/lib/python3.8/site-packages/xgboost/data.py\", line 213, in _from_numpy_array\n    _check_call(\n  File \"/home/local/USHERBROOKE/dens1704/Documents/PyCaret_HAIM/venv/lib/python3.8/site-packages/xgboost/core.py\", line 279, in _check_call\n    raise XGBoostError(py_str(_LIB.XGBGetLastError()))\nxgboost.core.XGBoostError: [16:44:25] ../src/data/data.cc:1104: Check failed: valid: Input data contains `inf` or `nan`\nStack trace:\n  [bt] (0) /home/local/USHERBROOKE/dens1704/Documents/PyCaret_HAIM/venv/lib/python3.8/site-packages/xgboost/lib/libxgboost.so(+0x20b1e3) [0x7fb4a8b161e3]\n  [bt] (1) /home/local/USHERBROOKE/dens1704/Documents/PyCaret_HAIM/venv/lib/python3.8/site-packages/xgboost/lib/libxgboost.so(+0x22ce51) [0x7fb4a8b37e51]\n  [bt] (2) /home/local/USHERBROOKE/dens1704/Documents/PyCaret_HAIM/venv/lib/python3.8/site-packages/xgboost/lib/libxgboost.so(+0x27e706) [0x7fb4a8b89706]\n  [bt] (3) /home/local/USHERBROOKE/dens1704/Documents/PyCaret_HAIM/venv/lib/python3.8/site-packages/xgboost/lib/libxgboost.so(+0x220215) [0x7fb4a8b2b215]\n  [bt] (4) /home/local/USHERBROOKE/dens1704/Documents/PyCaret_HAIM/venv/lib/python3.8/site-packages/xgboost/lib/libxgboost.so(XGDMatrixCreateFromDense+0x329) [0x7fb4a8a55eb9]\n  [bt] (5) /lib/x86_64-linux-gnu/libffi.so.7(+0x6ff5) [0x7fb4cd6beff5]\n  [bt] (6) /lib/x86_64-linux-gnu/libffi.so.7(+0x640a) [0x7fb4cd6be40a]\n  [bt] (7) /usr/lib/python3.8/lib-dynload/_ctypes.cpython-38-x86_64-linux-gnu.so(_ctypes_callproc+0x5b6) [0x7fb4cd706306]\n  [bt] (8) /usr/lib/python3.8/lib-dynload/_ctypes.cpython-38-x86_64-linux-gnu.so(+0x139dc) [0x7fb4cd7069dc]\n\n\n\n--------------------------------------------------------------------------------\n1 fits failed with the following error:\nTraceback (most recent call last):\n  File \"/home/local/USHERBROOKE/dens1704/Documents/PyCaret_HAIM/venv/lib/python3.8/site-packages/sklearn/model_selection/_validation.py\", line 686, in _fit_and_score\n    estimator.fit(X_train, y_train, **fit_params)\n  File \"/home/local/USHERBROOKE/dens1704/Documents/PyCaret_HAIM/venv/lib/python3.8/site-packages/pycaret/internal/pipeline.py\", line 260, in fit\n    fitted_estimator = self._memory_fit(\n  File \"/home/local/USHERBROOKE/dens1704/Documents/PyCaret_HAIM/venv/lib/python3.8/site-packages/joblib/memory.py\", line 655, in __call__\n    return self._cached_call(args, kwargs)[0]\n  File \"/home/local/USHERBROOKE/dens1704/Documents/PyCaret_HAIM/venv/lib/python3.8/site-packages/pycaret/internal/memory.py\", line 398, in _cached_call\n    out, metadata = self.call(*args, **kwargs)\n  File \"/home/local/USHERBROOKE/dens1704/Documents/PyCaret_HAIM/venv/lib/python3.8/site-packages/pycaret/internal/memory.py\", line 309, in call\n    output = self.func(*args, **kwargs)\n  File \"/home/local/USHERBROOKE/dens1704/Documents/PyCaret_HAIM/venv/lib/python3.8/site-packages/pycaret/internal/pipeline.py\", line 66, in _fit_one\n    transformer.fit(*args, **fit_params)\n  File \"/home/local/USHERBROOKE/dens1704/Documents/PyCaret_HAIM/venv/lib/python3.8/site-packages/xgboost/core.py\", line 620, in inner_f\n    return func(**kwargs)\n  File \"/home/local/USHERBROOKE/dens1704/Documents/PyCaret_HAIM/venv/lib/python3.8/site-packages/xgboost/sklearn.py\", line 1471, in fit\n    train_dmatrix, evals = _wrap_evaluation_matrices(\n  File \"/home/local/USHERBROOKE/dens1704/Documents/PyCaret_HAIM/venv/lib/python3.8/site-packages/xgboost/sklearn.py\", line 448, in _wrap_evaluation_matrices\n    train_dmatrix = create_dmatrix(\n  File \"/home/local/USHERBROOKE/dens1704/Documents/PyCaret_HAIM/venv/lib/python3.8/site-packages/xgboost/sklearn.py\", line 908, in _create_dmatrix\n    return DMatrix(**kwargs, nthread=self.n_jobs)\n  File \"/home/local/USHERBROOKE/dens1704/Documents/PyCaret_HAIM/venv/lib/python3.8/site-packages/xgboost/core.py\", line 620, in inner_f\n    return func(**kwargs)\n  File \"/home/local/USHERBROOKE/dens1704/Documents/PyCaret_HAIM/venv/lib/python3.8/site-packages/xgboost/core.py\", line 743, in __init__\n    handle, feature_names, feature_types = dispatch_data_backend(\n  File \"/home/local/USHERBROOKE/dens1704/Documents/PyCaret_HAIM/venv/lib/python3.8/site-packages/xgboost/data.py\", line 970, in dispatch_data_backend\n    return _from_pandas_df(data, enable_categorical, missing, threads,\n  File \"/home/local/USHERBROOKE/dens1704/Documents/PyCaret_HAIM/venv/lib/python3.8/site-packages/xgboost/data.py\", line 420, in _from_pandas_df\n    return _from_numpy_array(data, missing, nthread, feature_names, feature_types)\n  File \"/home/local/USHERBROOKE/dens1704/Documents/PyCaret_HAIM/venv/lib/python3.8/site-packages/xgboost/data.py\", line 213, in _from_numpy_array\n    _check_call(\n  File \"/home/local/USHERBROOKE/dens1704/Documents/PyCaret_HAIM/venv/lib/python3.8/site-packages/xgboost/core.py\", line 279, in _check_call\n    raise XGBoostError(py_str(_LIB.XGBGetLastError()))\nxgboost.core.XGBoostError: [16:44:26] ../src/data/data.cc:1104: Check failed: valid: Input data contains `inf` or `nan`\nStack trace:\n  [bt] (0) /home/local/USHERBROOKE/dens1704/Documents/PyCaret_HAIM/venv/lib/python3.8/site-packages/xgboost/lib/libxgboost.so(+0x20b1e3) [0x7fe8115061e3]\n  [bt] (1) /home/local/USHERBROOKE/dens1704/Documents/PyCaret_HAIM/venv/lib/python3.8/site-packages/xgboost/lib/libxgboost.so(+0x22ce51) [0x7fe811527e51]\n  [bt] (2) /home/local/USHERBROOKE/dens1704/Documents/PyCaret_HAIM/venv/lib/python3.8/site-packages/xgboost/lib/libxgboost.so(+0x27e706) [0x7fe811579706]\n  [bt] (3) /home/local/USHERBROOKE/dens1704/Documents/PyCaret_HAIM/venv/lib/python3.8/site-packages/xgboost/lib/libxgboost.so(+0x220215) [0x7fe81151b215]\n  [bt] (4) /home/local/USHERBROOKE/dens1704/Documents/PyCaret_HAIM/venv/lib/python3.8/site-packages/xgboost/lib/libxgboost.so(XGDMatrixCreateFromDense+0x329) [0x7fe811445eb9]\n  [bt] (5) /lib/x86_64-linux-gnu/libffi.so.7(+0x6ff5) [0x7fe8360b1ff5]\n  [bt] (6) /lib/x86_64-linux-gnu/libffi.so.7(+0x640a) [0x7fe8360b140a]\n  [bt] (7) /usr/lib/python3.8/lib-dynload/_ctypes.cpython-38-x86_64-linux-gnu.so(_ctypes_callproc+0x5b6) [0x7fe8360f9306]\n  [bt] (8) /usr/lib/python3.8/lib-dynload/_ctypes.cpython-38-x86_64-linux-gnu.so(+0x139dc) [0x7fe8360f99dc]\n\n\n\n--------------------------------------------------------------------------------\n1 fits failed with the following error:\nTraceback (most recent call last):\n  File \"/home/local/USHERBROOKE/dens1704/Documents/PyCaret_HAIM/venv/lib/python3.8/site-packages/sklearn/model_selection/_validation.py\", line 686, in _fit_and_score\n    estimator.fit(X_train, y_train, **fit_params)\n  File \"/home/local/USHERBROOKE/dens1704/Documents/PyCaret_HAIM/venv/lib/python3.8/site-packages/pycaret/internal/pipeline.py\", line 260, in fit\n    fitted_estimator = self._memory_fit(\n  File \"/home/local/USHERBROOKE/dens1704/Documents/PyCaret_HAIM/venv/lib/python3.8/site-packages/joblib/memory.py\", line 655, in __call__\n    return self._cached_call(args, kwargs)[0]\n  File \"/home/local/USHERBROOKE/dens1704/Documents/PyCaret_HAIM/venv/lib/python3.8/site-packages/pycaret/internal/memory.py\", line 398, in _cached_call\n    out, metadata = self.call(*args, **kwargs)\n  File \"/home/local/USHERBROOKE/dens1704/Documents/PyCaret_HAIM/venv/lib/python3.8/site-packages/pycaret/internal/memory.py\", line 309, in call\n    output = self.func(*args, **kwargs)\n  File \"/home/local/USHERBROOKE/dens1704/Documents/PyCaret_HAIM/venv/lib/python3.8/site-packages/pycaret/internal/pipeline.py\", line 66, in _fit_one\n    transformer.fit(*args, **fit_params)\n  File \"/home/local/USHERBROOKE/dens1704/Documents/PyCaret_HAIM/venv/lib/python3.8/site-packages/xgboost/core.py\", line 620, in inner_f\n    return func(**kwargs)\n  File \"/home/local/USHERBROOKE/dens1704/Documents/PyCaret_HAIM/venv/lib/python3.8/site-packages/xgboost/sklearn.py\", line 1471, in fit\n    train_dmatrix, evals = _wrap_evaluation_matrices(\n  File \"/home/local/USHERBROOKE/dens1704/Documents/PyCaret_HAIM/venv/lib/python3.8/site-packages/xgboost/sklearn.py\", line 448, in _wrap_evaluation_matrices\n    train_dmatrix = create_dmatrix(\n  File \"/home/local/USHERBROOKE/dens1704/Documents/PyCaret_HAIM/venv/lib/python3.8/site-packages/xgboost/sklearn.py\", line 908, in _create_dmatrix\n    return DMatrix(**kwargs, nthread=self.n_jobs)\n  File \"/home/local/USHERBROOKE/dens1704/Documents/PyCaret_HAIM/venv/lib/python3.8/site-packages/xgboost/core.py\", line 620, in inner_f\n    return func(**kwargs)\n  File \"/home/local/USHERBROOKE/dens1704/Documents/PyCaret_HAIM/venv/lib/python3.8/site-packages/xgboost/core.py\", line 743, in __init__\n    handle, feature_names, feature_types = dispatch_data_backend(\n  File \"/home/local/USHERBROOKE/dens1704/Documents/PyCaret_HAIM/venv/lib/python3.8/site-packages/xgboost/data.py\", line 970, in dispatch_data_backend\n    return _from_pandas_df(data, enable_categorical, missing, threads,\n  File \"/home/local/USHERBROOKE/dens1704/Documents/PyCaret_HAIM/venv/lib/python3.8/site-packages/xgboost/data.py\", line 420, in _from_pandas_df\n    return _from_numpy_array(data, missing, nthread, feature_names, feature_types)\n  File \"/home/local/USHERBROOKE/dens1704/Documents/PyCaret_HAIM/venv/lib/python3.8/site-packages/xgboost/data.py\", line 213, in _from_numpy_array\n    _check_call(\n  File \"/home/local/USHERBROOKE/dens1704/Documents/PyCaret_HAIM/venv/lib/python3.8/site-packages/xgboost/core.py\", line 279, in _check_call\n    raise XGBoostError(py_str(_LIB.XGBGetLastError()))\nxgboost.core.XGBoostError: [16:44:25] ../src/data/data.cc:1104: Check failed: valid: Input data contains `inf` or `nan`\nStack trace:\n  [bt] (0) /home/local/USHERBROOKE/dens1704/Documents/PyCaret_HAIM/venv/lib/python3.8/site-packages/xgboost/lib/libxgboost.so(+0x20b1e3) [0x7efdea6e31e3]\n  [bt] (1) /home/local/USHERBROOKE/dens1704/Documents/PyCaret_HAIM/venv/lib/python3.8/site-packages/xgboost/lib/libxgboost.so(+0x22ce51) [0x7efdea704e51]\n  [bt] (2) /home/local/USHERBROOKE/dens1704/Documents/PyCaret_HAIM/venv/lib/python3.8/site-packages/xgboost/lib/libxgboost.so(+0x27e706) [0x7efdea756706]\n  [bt] (3) /home/local/USHERBROOKE/dens1704/Documents/PyCaret_HAIM/venv/lib/python3.8/site-packages/xgboost/lib/libxgboost.so(+0x220215) [0x7efdea6f8215]\n  [bt] (4) /home/local/USHERBROOKE/dens1704/Documents/PyCaret_HAIM/venv/lib/python3.8/site-packages/xgboost/lib/libxgboost.so(XGDMatrixCreateFromDense+0x329) [0x7efdea622eb9]\n  [bt] (5) /lib/x86_64-linux-gnu/libffi.so.7(+0x6ff5) [0x7efe0f2afff5]\n  [bt] (6) /lib/x86_64-linux-gnu/libffi.so.7(+0x640a) [0x7efe0f2af40a]\n  [bt] (7) /usr/lib/python3.8/lib-dynload/_ctypes.cpython-38-x86_64-linux-gnu.so(_ctypes_callproc+0x5b6) [0x7efe0f2f7306]\n  [bt] (8) /usr/lib/python3.8/lib-dynload/_ctypes.cpython-38-x86_64-linux-gnu.so(+0x139dc) [0x7efe0f2f79dc]\n\n\n\n--------------------------------------------------------------------------------\n1 fits failed with the following error:\nTraceback (most recent call last):\n  File \"/home/local/USHERBROOKE/dens1704/Documents/PyCaret_HAIM/venv/lib/python3.8/site-packages/sklearn/model_selection/_validation.py\", line 686, in _fit_and_score\n    estimator.fit(X_train, y_train, **fit_params)\n  File \"/home/local/USHERBROOKE/dens1704/Documents/PyCaret_HAIM/venv/lib/python3.8/site-packages/pycaret/internal/pipeline.py\", line 260, in fit\n    fitted_estimator = self._memory_fit(\n  File \"/home/local/USHERBROOKE/dens1704/Documents/PyCaret_HAIM/venv/lib/python3.8/site-packages/joblib/memory.py\", line 655, in __call__\n    return self._cached_call(args, kwargs)[0]\n  File \"/home/local/USHERBROOKE/dens1704/Documents/PyCaret_HAIM/venv/lib/python3.8/site-packages/pycaret/internal/memory.py\", line 398, in _cached_call\n    out, metadata = self.call(*args, **kwargs)\n  File \"/home/local/USHERBROOKE/dens1704/Documents/PyCaret_HAIM/venv/lib/python3.8/site-packages/pycaret/internal/memory.py\", line 309, in call\n    output = self.func(*args, **kwargs)\n  File \"/home/local/USHERBROOKE/dens1704/Documents/PyCaret_HAIM/venv/lib/python3.8/site-packages/pycaret/internal/pipeline.py\", line 66, in _fit_one\n    transformer.fit(*args, **fit_params)\n  File \"/home/local/USHERBROOKE/dens1704/Documents/PyCaret_HAIM/venv/lib/python3.8/site-packages/xgboost/core.py\", line 620, in inner_f\n    return func(**kwargs)\n  File \"/home/local/USHERBROOKE/dens1704/Documents/PyCaret_HAIM/venv/lib/python3.8/site-packages/xgboost/sklearn.py\", line 1471, in fit\n    train_dmatrix, evals = _wrap_evaluation_matrices(\n  File \"/home/local/USHERBROOKE/dens1704/Documents/PyCaret_HAIM/venv/lib/python3.8/site-packages/xgboost/sklearn.py\", line 448, in _wrap_evaluation_matrices\n    train_dmatrix = create_dmatrix(\n  File \"/home/local/USHERBROOKE/dens1704/Documents/PyCaret_HAIM/venv/lib/python3.8/site-packages/xgboost/sklearn.py\", line 908, in _create_dmatrix\n    return DMatrix(**kwargs, nthread=self.n_jobs)\n  File \"/home/local/USHERBROOKE/dens1704/Documents/PyCaret_HAIM/venv/lib/python3.8/site-packages/xgboost/core.py\", line 620, in inner_f\n    return func(**kwargs)\n  File \"/home/local/USHERBROOKE/dens1704/Documents/PyCaret_HAIM/venv/lib/python3.8/site-packages/xgboost/core.py\", line 743, in __init__\n    handle, feature_names, feature_types = dispatch_data_backend(\n  File \"/home/local/USHERBROOKE/dens1704/Documents/PyCaret_HAIM/venv/lib/python3.8/site-packages/xgboost/data.py\", line 970, in dispatch_data_backend\n    return _from_pandas_df(data, enable_categorical, missing, threads,\n  File \"/home/local/USHERBROOKE/dens1704/Documents/PyCaret_HAIM/venv/lib/python3.8/site-packages/xgboost/data.py\", line 420, in _from_pandas_df\n    return _from_numpy_array(data, missing, nthread, feature_names, feature_types)\n  File \"/home/local/USHERBROOKE/dens1704/Documents/PyCaret_HAIM/venv/lib/python3.8/site-packages/xgboost/data.py\", line 213, in _from_numpy_array\n    _check_call(\n  File \"/home/local/USHERBROOKE/dens1704/Documents/PyCaret_HAIM/venv/lib/python3.8/site-packages/xgboost/core.py\", line 279, in _check_call\n    raise XGBoostError(py_str(_LIB.XGBGetLastError()))\nxgboost.core.XGBoostError: [16:44:26] ../src/data/data.cc:1104: Check failed: valid: Input data contains `inf` or `nan`\nStack trace:\n  [bt] (0) /home/local/USHERBROOKE/dens1704/Documents/PyCaret_HAIM/venv/lib/python3.8/site-packages/xgboost/lib/libxgboost.so(+0x20b1e3) [0x7fdbff7211e3]\n  [bt] (1) /home/local/USHERBROOKE/dens1704/Documents/PyCaret_HAIM/venv/lib/python3.8/site-packages/xgboost/lib/libxgboost.so(+0x22ce51) [0x7fdbff742e51]\n  [bt] (2) /home/local/USHERBROOKE/dens1704/Documents/PyCaret_HAIM/venv/lib/python3.8/site-packages/xgboost/lib/libxgboost.so(+0x27e706) [0x7fdbff794706]\n  [bt] (3) /home/local/USHERBROOKE/dens1704/Documents/PyCaret_HAIM/venv/lib/python3.8/site-packages/xgboost/lib/libxgboost.so(+0x220215) [0x7fdbff736215]\n  [bt] (4) /home/local/USHERBROOKE/dens1704/Documents/PyCaret_HAIM/venv/lib/python3.8/site-packages/xgboost/lib/libxgboost.so(XGDMatrixCreateFromDense+0x329) [0x7fdbff660eb9]\n  [bt] (5) /lib/x86_64-linux-gnu/libffi.so.7(+0x6ff5) [0x7fdc247eaff5]\n  [bt] (6) /lib/x86_64-linux-gnu/libffi.so.7(+0x640a) [0x7fdc247ea40a]\n  [bt] (7) /usr/lib/python3.8/lib-dynload/_ctypes.cpython-38-x86_64-linux-gnu.so(_ctypes_callproc+0x5b6) [0x7fdc24832306]\n  [bt] (8) /usr/lib/python3.8/lib-dynload/_ctypes.cpython-38-x86_64-linux-gnu.so(+0x139dc) [0x7fdc248329dc]\n\n\n",
     "output_type": "error",
     "traceback": [
      "\u001b[0;31m---------------------------------------------------------------------------\u001b[0m",
      "\u001b[0;31mValueError\u001b[0m                                Traceback (most recent call last)",
      "\u001b[0;32m/tmp/ipykernel_130865/786261075.py\u001b[0m in \u001b[0;36m<cell line: 1>\u001b[0;34m()\u001b[0m\n\u001b[0;32m----> 1\u001b[0;31m \u001b[0mexp_model\u001b[0m \u001b[0;34m=\u001b[0m \u001b[0mexp\u001b[0m\u001b[0;34m.\u001b[0m\u001b[0mcreate_model\u001b[0m\u001b[0;34m(\u001b[0m\u001b[0mMODEL\u001b[0m\u001b[0;34m)\u001b[0m\u001b[0;34m\u001b[0m\u001b[0;34m\u001b[0m\u001b[0m\n\u001b[0m",
      "\u001b[0;32m~/Documents/PyCaret_HAIM/venv/lib/python3.8/site-packages/pycaret/classification/oop.py\u001b[0m in \u001b[0;36mcreate_model\u001b[0;34m(self, estimator, fold, round, cross_validation, fit_kwargs, groups, experiment_custom_tags, probability_threshold, engine, verbose, return_train_score, **kwargs)\u001b[0m\n\u001b[1;32m   1352\u001b[0m \u001b[0;34m\u001b[0m\u001b[0m\n\u001b[1;32m   1353\u001b[0m         \u001b[0;32mtry\u001b[0m\u001b[0;34m:\u001b[0m\u001b[0;34m\u001b[0m\u001b[0;34m\u001b[0m\u001b[0m\n\u001b[0;32m-> 1354\u001b[0;31m             return_values = super().create_model(\n\u001b[0m\u001b[1;32m   1355\u001b[0m                 \u001b[0mestimator\u001b[0m\u001b[0;34m=\u001b[0m\u001b[0mestimator\u001b[0m\u001b[0;34m,\u001b[0m\u001b[0;34m\u001b[0m\u001b[0;34m\u001b[0m\u001b[0m\n\u001b[1;32m   1356\u001b[0m                 \u001b[0mfold\u001b[0m\u001b[0;34m=\u001b[0m\u001b[0mfold\u001b[0m\u001b[0;34m,\u001b[0m\u001b[0;34m\u001b[0m\u001b[0;34m\u001b[0m\u001b[0m\n",
      "\u001b[0;32m~/Documents/PyCaret_HAIM/venv/lib/python3.8/site-packages/pycaret/internal/pycaret_experiment/supervised_experiment.py\u001b[0m in \u001b[0;36mcreate_model\u001b[0;34m(self, estimator, fold, round, cross_validation, predict, fit_kwargs, groups, refit, probability_threshold, experiment_custom_tags, verbose, return_train_score, **kwargs)\u001b[0m\n\u001b[1;32m   1749\u001b[0m             \u001b[0;32mfor\u001b[0m \u001b[0mx\u001b[0m \u001b[0;32min\u001b[0m \u001b[0mkwargs\u001b[0m\u001b[0;34m\u001b[0m\u001b[0;34m\u001b[0m\u001b[0m\n\u001b[1;32m   1750\u001b[0m         )\n\u001b[0;32m-> 1751\u001b[0;31m         return self._create_model(\n\u001b[0m\u001b[1;32m   1752\u001b[0m             \u001b[0mestimator\u001b[0m\u001b[0;34m=\u001b[0m\u001b[0mestimator\u001b[0m\u001b[0;34m,\u001b[0m\u001b[0;34m\u001b[0m\u001b[0;34m\u001b[0m\u001b[0m\n\u001b[1;32m   1753\u001b[0m             \u001b[0mfold\u001b[0m\u001b[0;34m=\u001b[0m\u001b[0mfold\u001b[0m\u001b[0;34m,\u001b[0m\u001b[0;34m\u001b[0m\u001b[0;34m\u001b[0m\u001b[0m\n",
      "\u001b[0;32m~/Documents/PyCaret_HAIM/venv/lib/python3.8/site-packages/pycaret/internal/pycaret_experiment/supervised_experiment.py\u001b[0m in \u001b[0;36m_create_model\u001b[0;34m(self, estimator, fold, round, cross_validation, predict, fit_kwargs, groups, refit, probability_threshold, experiment_custom_tags, verbose, system, add_to_model_list, X_train_data, y_train_data, metrics, display, model_only, return_train_score, **kwargs)\u001b[0m\n\u001b[1;32m   1517\u001b[0m             \u001b[0;32mreturn\u001b[0m \u001b[0mmodel\u001b[0m\u001b[0;34m\u001b[0m\u001b[0;34m\u001b[0m\u001b[0m\n\u001b[1;32m   1518\u001b[0m \u001b[0;34m\u001b[0m\u001b[0m\n\u001b[0;32m-> 1519\u001b[0;31m         model, model_fit_time, model_results, _ = self._create_model_with_cv(\n\u001b[0m\u001b[1;32m   1520\u001b[0m             \u001b[0mmodel\u001b[0m\u001b[0;34m,\u001b[0m\u001b[0;34m\u001b[0m\u001b[0;34m\u001b[0m\u001b[0m\n\u001b[1;32m   1521\u001b[0m             \u001b[0mdata_X\u001b[0m\u001b[0;34m,\u001b[0m\u001b[0;34m\u001b[0m\u001b[0;34m\u001b[0m\u001b[0m\n",
      "\u001b[0;32m~/Documents/PyCaret_HAIM/venv/lib/python3.8/site-packages/pycaret/internal/pycaret_experiment/supervised_experiment.py\u001b[0m in \u001b[0;36m_create_model_with_cv\u001b[0;34m(self, model, data_X, data_y, fit_kwargs, round, cv, groups, metrics, refit, system, display, return_train_score)\u001b[0m\n\u001b[1;32m   1112\u001b[0m             \u001b[0mmodel_fit_start\u001b[0m \u001b[0;34m=\u001b[0m \u001b[0mtime\u001b[0m\u001b[0;34m.\u001b[0m\u001b[0mtime\u001b[0m\u001b[0;34m(\u001b[0m\u001b[0;34m)\u001b[0m\u001b[0;34m\u001b[0m\u001b[0;34m\u001b[0m\u001b[0m\n\u001b[1;32m   1113\u001b[0m             \u001b[0;32mwith\u001b[0m \u001b[0mredirect_output\u001b[0m\u001b[0;34m(\u001b[0m\u001b[0mself\u001b[0m\u001b[0;34m.\u001b[0m\u001b[0mlogger\u001b[0m\u001b[0;34m)\u001b[0m\u001b[0;34m:\u001b[0m\u001b[0;34m\u001b[0m\u001b[0;34m\u001b[0m\u001b[0m\n\u001b[0;32m-> 1114\u001b[0;31m                 scores = cross_validate(\n\u001b[0m\u001b[1;32m   1115\u001b[0m                     \u001b[0mpipeline_with_model\u001b[0m\u001b[0;34m,\u001b[0m\u001b[0;34m\u001b[0m\u001b[0;34m\u001b[0m\u001b[0m\n\u001b[1;32m   1116\u001b[0m                     \u001b[0mdata_X\u001b[0m\u001b[0;34m,\u001b[0m\u001b[0;34m\u001b[0m\u001b[0;34m\u001b[0m\u001b[0m\n",
      "\u001b[0;32m~/Documents/PyCaret_HAIM/venv/lib/python3.8/site-packages/sklearn/model_selection/_validation.py\u001b[0m in \u001b[0;36mcross_validate\u001b[0;34m(estimator, X, y, groups, scoring, cv, n_jobs, verbose, fit_params, pre_dispatch, return_train_score, return_estimator, error_score)\u001b[0m\n\u001b[1;32m    283\u001b[0m     )\n\u001b[1;32m    284\u001b[0m \u001b[0;34m\u001b[0m\u001b[0m\n\u001b[0;32m--> 285\u001b[0;31m     \u001b[0m_warn_or_raise_about_fit_failures\u001b[0m\u001b[0;34m(\u001b[0m\u001b[0mresults\u001b[0m\u001b[0;34m,\u001b[0m \u001b[0merror_score\u001b[0m\u001b[0;34m)\u001b[0m\u001b[0;34m\u001b[0m\u001b[0;34m\u001b[0m\u001b[0m\n\u001b[0m\u001b[1;32m    286\u001b[0m \u001b[0;34m\u001b[0m\u001b[0m\n\u001b[1;32m    287\u001b[0m     \u001b[0;31m# For callabe scoring, the return type is only know after calling. If the\u001b[0m\u001b[0;34m\u001b[0m\u001b[0;34m\u001b[0m\u001b[0;34m\u001b[0m\u001b[0m\n",
      "\u001b[0;32m~/Documents/PyCaret_HAIM/venv/lib/python3.8/site-packages/sklearn/model_selection/_validation.py\u001b[0m in \u001b[0;36m_warn_or_raise_about_fit_failures\u001b[0;34m(results, error_score)\u001b[0m\n\u001b[1;32m    365\u001b[0m                 \u001b[0;34mf\"Below are more details about the failures:\\n{fit_errors_summary}\"\u001b[0m\u001b[0;34m\u001b[0m\u001b[0;34m\u001b[0m\u001b[0m\n\u001b[1;32m    366\u001b[0m             )\n\u001b[0;32m--> 367\u001b[0;31m             \u001b[0;32mraise\u001b[0m \u001b[0mValueError\u001b[0m\u001b[0;34m(\u001b[0m\u001b[0mall_fits_failed_message\u001b[0m\u001b[0;34m)\u001b[0m\u001b[0;34m\u001b[0m\u001b[0;34m\u001b[0m\u001b[0m\n\u001b[0m\u001b[1;32m    368\u001b[0m \u001b[0;34m\u001b[0m\u001b[0m\n\u001b[1;32m    369\u001b[0m         \u001b[0;32melse\u001b[0m\u001b[0;34m:\u001b[0m\u001b[0;34m\u001b[0m\u001b[0;34m\u001b[0m\u001b[0m\n",
      "\u001b[0;31mValueError\u001b[0m: \nAll the 5 fits failed.\nIt is very likely that your model is misconfigured.\nYou can try to debug the error by setting error_score='raise'.\n\nBelow are more details about the failures:\n--------------------------------------------------------------------------------\n1 fits failed with the following error:\nTraceback (most recent call last):\n  File \"/home/local/USHERBROOKE/dens1704/Documents/PyCaret_HAIM/venv/lib/python3.8/site-packages/sklearn/model_selection/_validation.py\", line 686, in _fit_and_score\n    estimator.fit(X_train, y_train, **fit_params)\n  File \"/home/local/USHERBROOKE/dens1704/Documents/PyCaret_HAIM/venv/lib/python3.8/site-packages/pycaret/internal/pipeline.py\", line 260, in fit\n    fitted_estimator = self._memory_fit(\n  File \"/home/local/USHERBROOKE/dens1704/Documents/PyCaret_HAIM/venv/lib/python3.8/site-packages/joblib/memory.py\", line 655, in __call__\n    return self._cached_call(args, kwargs)[0]\n  File \"/home/local/USHERBROOKE/dens1704/Documents/PyCaret_HAIM/venv/lib/python3.8/site-packages/pycaret/internal/memory.py\", line 398, in _cached_call\n    out, metadata = self.call(*args, **kwargs)\n  File \"/home/local/USHERBROOKE/dens1704/Documents/PyCaret_HAIM/venv/lib/python3.8/site-packages/pycaret/internal/memory.py\", line 309, in call\n    output = self.func(*args, **kwargs)\n  File \"/home/local/USHERBROOKE/dens1704/Documents/PyCaret_HAIM/venv/lib/python3.8/site-packages/pycaret/internal/pipeline.py\", line 66, in _fit_one\n    transformer.fit(*args, **fit_params)\n  File \"/home/local/USHERBROOKE/dens1704/Documents/PyCaret_HAIM/venv/lib/python3.8/site-packages/xgboost/core.py\", line 620, in inner_f\n    return func(**kwargs)\n  File \"/home/local/USHERBROOKE/dens1704/Documents/PyCaret_HAIM/venv/lib/python3.8/site-packages/xgboost/sklearn.py\", line 1471, in fit\n    train_dmatrix, evals = _wrap_evaluation_matrices(\n  File \"/home/local/USHERBROOKE/dens1704/Documents/PyCaret_HAIM/venv/lib/python3.8/site-packages/xgboost/sklearn.py\", line 448, in _wrap_evaluation_matrices\n    train_dmatrix = create_dmatrix(\n  File \"/home/local/USHERBROOKE/dens1704/Documents/PyCaret_HAIM/venv/lib/python3.8/site-packages/xgboost/sklearn.py\", line 908, in _create_dmatrix\n    return DMatrix(**kwargs, nthread=self.n_jobs)\n  File \"/home/local/USHERBROOKE/dens1704/Documents/PyCaret_HAIM/venv/lib/python3.8/site-packages/xgboost/core.py\", line 620, in inner_f\n    return func(**kwargs)\n  File \"/home/local/USHERBROOKE/dens1704/Documents/PyCaret_HAIM/venv/lib/python3.8/site-packages/xgboost/core.py\", line 743, in __init__\n    handle, feature_names, feature_types = dispatch_data_backend(\n  File \"/home/local/USHERBROOKE/dens1704/Documents/PyCaret_HAIM/venv/lib/python3.8/site-packages/xgboost/data.py\", line 970, in dispatch_data_backend\n    return _from_pandas_df(data, enable_categorical, missing, threads,\n  File \"/home/local/USHERBROOKE/dens1704/Documents/PyCaret_HAIM/venv/lib/python3.8/site-packages/xgboost/data.py\", line 420, in _from_pandas_df\n    return _from_numpy_array(data, missing, nthread, feature_names, feature_types)\n  File \"/home/local/USHERBROOKE/dens1704/Documents/PyCaret_HAIM/venv/lib/python3.8/site-packages/xgboost/data.py\", line 213, in _from_numpy_array\n    _check_call(\n  File \"/home/local/USHERBROOKE/dens1704/Documents/PyCaret_HAIM/venv/lib/python3.8/site-packages/xgboost/core.py\", line 279, in _check_call\n    raise XGBoostError(py_str(_LIB.XGBGetLastError()))\nxgboost.core.XGBoostError: [16:44:26] ../src/data/data.cc:1104: Check failed: valid: Input data contains `inf` or `nan`\nStack trace:\n  [bt] (0) /home/local/USHERBROOKE/dens1704/Documents/PyCaret_HAIM/venv/lib/python3.8/site-packages/xgboost/lib/libxgboost.so(+0x20b1e3) [0x7f0ebaded1e3]\n  [bt] (1) /home/local/USHERBROOKE/dens1704/Documents/PyCaret_HAIM/venv/lib/python3.8/site-packages/xgboost/lib/libxgboost.so(+0x22ce51) [0x7f0ebae0ee51]\n  [bt] (2) /home/local/USHERBROOKE/dens1704/Documents/PyCaret_HAIM/venv/lib/python3.8/site-packages/xgboost/lib/libxgboost.so(+0x27e706) [0x7f0ebae60706]\n  [bt] (3) /home/local/USHERBROOKE/dens1704/Documents/PyCaret_HAIM/venv/lib/python3.8/site-packages/xgboost/lib/libxgboost.so(+0x220215) [0x7f0ebae02215]\n  [bt] (4) /home/local/USHERBROOKE/dens1704/Documents/PyCaret_HAIM/venv/lib/python3.8/site-packages/xgboost/lib/libxgboost.so(XGDMatrixCreateFromDense+0x329) [0x7f0ebad2ceb9]\n  [bt] (5) /lib/x86_64-linux-gnu/libffi.so.7(+0x6ff5) [0x7f0edf9b1ff5]\n  [bt] (6) /lib/x86_64-linux-gnu/libffi.so.7(+0x640a) [0x7f0edf9b140a]\n  [bt] (7) /usr/lib/python3.8/lib-dynload/_ctypes.cpython-38-x86_64-linux-gnu.so(_ctypes_callproc+0x5b6) [0x7f0edf9f9306]\n  [bt] (8) /usr/lib/python3.8/lib-dynload/_ctypes.cpython-38-x86_64-linux-gnu.so(+0x139dc) [0x7f0edf9f99dc]\n\n\n\n--------------------------------------------------------------------------------\n1 fits failed with the following error:\nTraceback (most recent call last):\n  File \"/home/local/USHERBROOKE/dens1704/Documents/PyCaret_HAIM/venv/lib/python3.8/site-packages/sklearn/model_selection/_validation.py\", line 686, in _fit_and_score\n    estimator.fit(X_train, y_train, **fit_params)\n  File \"/home/local/USHERBROOKE/dens1704/Documents/PyCaret_HAIM/venv/lib/python3.8/site-packages/pycaret/internal/pipeline.py\", line 260, in fit\n    fitted_estimator = self._memory_fit(\n  File \"/home/local/USHERBROOKE/dens1704/Documents/PyCaret_HAIM/venv/lib/python3.8/site-packages/joblib/memory.py\", line 655, in __call__\n    return self._cached_call(args, kwargs)[0]\n  File \"/home/local/USHERBROOKE/dens1704/Documents/PyCaret_HAIM/venv/lib/python3.8/site-packages/pycaret/internal/memory.py\", line 398, in _cached_call\n    out, metadata = self.call(*args, **kwargs)\n  File \"/home/local/USHERBROOKE/dens1704/Documents/PyCaret_HAIM/venv/lib/python3.8/site-packages/pycaret/internal/memory.py\", line 309, in call\n    output = self.func(*args, **kwargs)\n  File \"/home/local/USHERBROOKE/dens1704/Documents/PyCaret_HAIM/venv/lib/python3.8/site-packages/pycaret/internal/pipeline.py\", line 66, in _fit_one\n    transformer.fit(*args, **fit_params)\n  File \"/home/local/USHERBROOKE/dens1704/Documents/PyCaret_HAIM/venv/lib/python3.8/site-packages/xgboost/core.py\", line 620, in inner_f\n    return func(**kwargs)\n  File \"/home/local/USHERBROOKE/dens1704/Documents/PyCaret_HAIM/venv/lib/python3.8/site-packages/xgboost/sklearn.py\", line 1471, in fit\n    train_dmatrix, evals = _wrap_evaluation_matrices(\n  File \"/home/local/USHERBROOKE/dens1704/Documents/PyCaret_HAIM/venv/lib/python3.8/site-packages/xgboost/sklearn.py\", line 448, in _wrap_evaluation_matrices\n    train_dmatrix = create_dmatrix(\n  File \"/home/local/USHERBROOKE/dens1704/Documents/PyCaret_HAIM/venv/lib/python3.8/site-packages/xgboost/sklearn.py\", line 908, in _create_dmatrix\n    return DMatrix(**kwargs, nthread=self.n_jobs)\n  File \"/home/local/USHERBROOKE/dens1704/Documents/PyCaret_HAIM/venv/lib/python3.8/site-packages/xgboost/core.py\", line 620, in inner_f\n    return func(**kwargs)\n  File \"/home/local/USHERBROOKE/dens1704/Documents/PyCaret_HAIM/venv/lib/python3.8/site-packages/xgboost/core.py\", line 743, in __init__\n    handle, feature_names, feature_types = dispatch_data_backend(\n  File \"/home/local/USHERBROOKE/dens1704/Documents/PyCaret_HAIM/venv/lib/python3.8/site-packages/xgboost/data.py\", line 970, in dispatch_data_backend\n    return _from_pandas_df(data, enable_categorical, missing, threads,\n  File \"/home/local/USHERBROOKE/dens1704/Documents/PyCaret_HAIM/venv/lib/python3.8/site-packages/xgboost/data.py\", line 420, in _from_pandas_df\n    return _from_numpy_array(data, missing, nthread, feature_names, feature_types)\n  File \"/home/local/USHERBROOKE/dens1704/Documents/PyCaret_HAIM/venv/lib/python3.8/site-packages/xgboost/data.py\", line 213, in _from_numpy_array\n    _check_call(\n  File \"/home/local/USHERBROOKE/dens1704/Documents/PyCaret_HAIM/venv/lib/python3.8/site-packages/xgboost/core.py\", line 279, in _check_call\n    raise XGBoostError(py_str(_LIB.XGBGetLastError()))\nxgboost.core.XGBoostError: [16:44:25] ../src/data/data.cc:1104: Check failed: valid: Input data contains `inf` or `nan`\nStack trace:\n  [bt] (0) /home/local/USHERBROOKE/dens1704/Documents/PyCaret_HAIM/venv/lib/python3.8/site-packages/xgboost/lib/libxgboost.so(+0x20b1e3) [0x7fb4a8b161e3]\n  [bt] (1) /home/local/USHERBROOKE/dens1704/Documents/PyCaret_HAIM/venv/lib/python3.8/site-packages/xgboost/lib/libxgboost.so(+0x22ce51) [0x7fb4a8b37e51]\n  [bt] (2) /home/local/USHERBROOKE/dens1704/Documents/PyCaret_HAIM/venv/lib/python3.8/site-packages/xgboost/lib/libxgboost.so(+0x27e706) [0x7fb4a8b89706]\n  [bt] (3) /home/local/USHERBROOKE/dens1704/Documents/PyCaret_HAIM/venv/lib/python3.8/site-packages/xgboost/lib/libxgboost.so(+0x220215) [0x7fb4a8b2b215]\n  [bt] (4) /home/local/USHERBROOKE/dens1704/Documents/PyCaret_HAIM/venv/lib/python3.8/site-packages/xgboost/lib/libxgboost.so(XGDMatrixCreateFromDense+0x329) [0x7fb4a8a55eb9]\n  [bt] (5) /lib/x86_64-linux-gnu/libffi.so.7(+0x6ff5) [0x7fb4cd6beff5]\n  [bt] (6) /lib/x86_64-linux-gnu/libffi.so.7(+0x640a) [0x7fb4cd6be40a]\n  [bt] (7) /usr/lib/python3.8/lib-dynload/_ctypes.cpython-38-x86_64-linux-gnu.so(_ctypes_callproc+0x5b6) [0x7fb4cd706306]\n  [bt] (8) /usr/lib/python3.8/lib-dynload/_ctypes.cpython-38-x86_64-linux-gnu.so(+0x139dc) [0x7fb4cd7069dc]\n\n\n\n--------------------------------------------------------------------------------\n1 fits failed with the following error:\nTraceback (most recent call last):\n  File \"/home/local/USHERBROOKE/dens1704/Documents/PyCaret_HAIM/venv/lib/python3.8/site-packages/sklearn/model_selection/_validation.py\", line 686, in _fit_and_score\n    estimator.fit(X_train, y_train, **fit_params)\n  File \"/home/local/USHERBROOKE/dens1704/Documents/PyCaret_HAIM/venv/lib/python3.8/site-packages/pycaret/internal/pipeline.py\", line 260, in fit\n    fitted_estimator = self._memory_fit(\n  File \"/home/local/USHERBROOKE/dens1704/Documents/PyCaret_HAIM/venv/lib/python3.8/site-packages/joblib/memory.py\", line 655, in __call__\n    return self._cached_call(args, kwargs)[0]\n  File \"/home/local/USHERBROOKE/dens1704/Documents/PyCaret_HAIM/venv/lib/python3.8/site-packages/pycaret/internal/memory.py\", line 398, in _cached_call\n    out, metadata = self.call(*args, **kwargs)\n  File \"/home/local/USHERBROOKE/dens1704/Documents/PyCaret_HAIM/venv/lib/python3.8/site-packages/pycaret/internal/memory.py\", line 309, in call\n    output = self.func(*args, **kwargs)\n  File \"/home/local/USHERBROOKE/dens1704/Documents/PyCaret_HAIM/venv/lib/python3.8/site-packages/pycaret/internal/pipeline.py\", line 66, in _fit_one\n    transformer.fit(*args, **fit_params)\n  File \"/home/local/USHERBROOKE/dens1704/Documents/PyCaret_HAIM/venv/lib/python3.8/site-packages/xgboost/core.py\", line 620, in inner_f\n    return func(**kwargs)\n  File \"/home/local/USHERBROOKE/dens1704/Documents/PyCaret_HAIM/venv/lib/python3.8/site-packages/xgboost/sklearn.py\", line 1471, in fit\n    train_dmatrix, evals = _wrap_evaluation_matrices(\n  File \"/home/local/USHERBROOKE/dens1704/Documents/PyCaret_HAIM/venv/lib/python3.8/site-packages/xgboost/sklearn.py\", line 448, in _wrap_evaluation_matrices\n    train_dmatrix = create_dmatrix(\n  File \"/home/local/USHERBROOKE/dens1704/Documents/PyCaret_HAIM/venv/lib/python3.8/site-packages/xgboost/sklearn.py\", line 908, in _create_dmatrix\n    return DMatrix(**kwargs, nthread=self.n_jobs)\n  File \"/home/local/USHERBROOKE/dens1704/Documents/PyCaret_HAIM/venv/lib/python3.8/site-packages/xgboost/core.py\", line 620, in inner_f\n    return func(**kwargs)\n  File \"/home/local/USHERBROOKE/dens1704/Documents/PyCaret_HAIM/venv/lib/python3.8/site-packages/xgboost/core.py\", line 743, in __init__\n    handle, feature_names, feature_types = dispatch_data_backend(\n  File \"/home/local/USHERBROOKE/dens1704/Documents/PyCaret_HAIM/venv/lib/python3.8/site-packages/xgboost/data.py\", line 970, in dispatch_data_backend\n    return _from_pandas_df(data, enable_categorical, missing, threads,\n  File \"/home/local/USHERBROOKE/dens1704/Documents/PyCaret_HAIM/venv/lib/python3.8/site-packages/xgboost/data.py\", line 420, in _from_pandas_df\n    return _from_numpy_array(data, missing, nthread, feature_names, feature_types)\n  File \"/home/local/USHERBROOKE/dens1704/Documents/PyCaret_HAIM/venv/lib/python3.8/site-packages/xgboost/data.py\", line 213, in _from_numpy_array\n    _check_call(\n  File \"/home/local/USHERBROOKE/dens1704/Documents/PyCaret_HAIM/venv/lib/python3.8/site-packages/xgboost/core.py\", line 279, in _check_call\n    raise XGBoostError(py_str(_LIB.XGBGetLastError()))\nxgboost.core.XGBoostError: [16:44:26] ../src/data/data.cc:1104: Check failed: valid: Input data contains `inf` or `nan`\nStack trace:\n  [bt] (0) /home/local/USHERBROOKE/dens1704/Documents/PyCaret_HAIM/venv/lib/python3.8/site-packages/xgboost/lib/libxgboost.so(+0x20b1e3) [0x7fe8115061e3]\n  [bt] (1) /home/local/USHERBROOKE/dens1704/Documents/PyCaret_HAIM/venv/lib/python3.8/site-packages/xgboost/lib/libxgboost.so(+0x22ce51) [0x7fe811527e51]\n  [bt] (2) /home/local/USHERBROOKE/dens1704/Documents/PyCaret_HAIM/venv/lib/python3.8/site-packages/xgboost/lib/libxgboost.so(+0x27e706) [0x7fe811579706]\n  [bt] (3) /home/local/USHERBROOKE/dens1704/Documents/PyCaret_HAIM/venv/lib/python3.8/site-packages/xgboost/lib/libxgboost.so(+0x220215) [0x7fe81151b215]\n  [bt] (4) /home/local/USHERBROOKE/dens1704/Documents/PyCaret_HAIM/venv/lib/python3.8/site-packages/xgboost/lib/libxgboost.so(XGDMatrixCreateFromDense+0x329) [0x7fe811445eb9]\n  [bt] (5) /lib/x86_64-linux-gnu/libffi.so.7(+0x6ff5) [0x7fe8360b1ff5]\n  [bt] (6) /lib/x86_64-linux-gnu/libffi.so.7(+0x640a) [0x7fe8360b140a]\n  [bt] (7) /usr/lib/python3.8/lib-dynload/_ctypes.cpython-38-x86_64-linux-gnu.so(_ctypes_callproc+0x5b6) [0x7fe8360f9306]\n  [bt] (8) /usr/lib/python3.8/lib-dynload/_ctypes.cpython-38-x86_64-linux-gnu.so(+0x139dc) [0x7fe8360f99dc]\n\n\n\n--------------------------------------------------------------------------------\n1 fits failed with the following error:\nTraceback (most recent call last):\n  File \"/home/local/USHERBROOKE/dens1704/Documents/PyCaret_HAIM/venv/lib/python3.8/site-packages/sklearn/model_selection/_validation.py\", line 686, in _fit_and_score\n    estimator.fit(X_train, y_train, **fit_params)\n  File \"/home/local/USHERBROOKE/dens1704/Documents/PyCaret_HAIM/venv/lib/python3.8/site-packages/pycaret/internal/pipeline.py\", line 260, in fit\n    fitted_estimator = self._memory_fit(\n  File \"/home/local/USHERBROOKE/dens1704/Documents/PyCaret_HAIM/venv/lib/python3.8/site-packages/joblib/memory.py\", line 655, in __call__\n    return self._cached_call(args, kwargs)[0]\n  File \"/home/local/USHERBROOKE/dens1704/Documents/PyCaret_HAIM/venv/lib/python3.8/site-packages/pycaret/internal/memory.py\", line 398, in _cached_call\n    out, metadata = self.call(*args, **kwargs)\n  File \"/home/local/USHERBROOKE/dens1704/Documents/PyCaret_HAIM/venv/lib/python3.8/site-packages/pycaret/internal/memory.py\", line 309, in call\n    output = self.func(*args, **kwargs)\n  File \"/home/local/USHERBROOKE/dens1704/Documents/PyCaret_HAIM/venv/lib/python3.8/site-packages/pycaret/internal/pipeline.py\", line 66, in _fit_one\n    transformer.fit(*args, **fit_params)\n  File \"/home/local/USHERBROOKE/dens1704/Documents/PyCaret_HAIM/venv/lib/python3.8/site-packages/xgboost/core.py\", line 620, in inner_f\n    return func(**kwargs)\n  File \"/home/local/USHERBROOKE/dens1704/Documents/PyCaret_HAIM/venv/lib/python3.8/site-packages/xgboost/sklearn.py\", line 1471, in fit\n    train_dmatrix, evals = _wrap_evaluation_matrices(\n  File \"/home/local/USHERBROOKE/dens1704/Documents/PyCaret_HAIM/venv/lib/python3.8/site-packages/xgboost/sklearn.py\", line 448, in _wrap_evaluation_matrices\n    train_dmatrix = create_dmatrix(\n  File \"/home/local/USHERBROOKE/dens1704/Documents/PyCaret_HAIM/venv/lib/python3.8/site-packages/xgboost/sklearn.py\", line 908, in _create_dmatrix\n    return DMatrix(**kwargs, nthread=self.n_jobs)\n  File \"/home/local/USHERBROOKE/dens1704/Documents/PyCaret_HAIM/venv/lib/python3.8/site-packages/xgboost/core.py\", line 620, in inner_f\n    return func(**kwargs)\n  File \"/home/local/USHERBROOKE/dens1704/Documents/PyCaret_HAIM/venv/lib/python3.8/site-packages/xgboost/core.py\", line 743, in __init__\n    handle, feature_names, feature_types = dispatch_data_backend(\n  File \"/home/local/USHERBROOKE/dens1704/Documents/PyCaret_HAIM/venv/lib/python3.8/site-packages/xgboost/data.py\", line 970, in dispatch_data_backend\n    return _from_pandas_df(data, enable_categorical, missing, threads,\n  File \"/home/local/USHERBROOKE/dens1704/Documents/PyCaret_HAIM/venv/lib/python3.8/site-packages/xgboost/data.py\", line 420, in _from_pandas_df\n    return _from_numpy_array(data, missing, nthread, feature_names, feature_types)\n  File \"/home/local/USHERBROOKE/dens1704/Documents/PyCaret_HAIM/venv/lib/python3.8/site-packages/xgboost/data.py\", line 213, in _from_numpy_array\n    _check_call(\n  File \"/home/local/USHERBROOKE/dens1704/Documents/PyCaret_HAIM/venv/lib/python3.8/site-packages/xgboost/core.py\", line 279, in _check_call\n    raise XGBoostError(py_str(_LIB.XGBGetLastError()))\nxgboost.core.XGBoostError: [16:44:25] ../src/data/data.cc:1104: Check failed: valid: Input data contains `inf` or `nan`\nStack trace:\n  [bt] (0) /home/local/USHERBROOKE/dens1704/Documents/PyCaret_HAIM/venv/lib/python3.8/site-packages/xgboost/lib/libxgboost.so(+0x20b1e3) [0x7efdea6e31e3]\n  [bt] (1) /home/local/USHERBROOKE/dens1704/Documents/PyCaret_HAIM/venv/lib/python3.8/site-packages/xgboost/lib/libxgboost.so(+0x22ce51) [0x7efdea704e51]\n  [bt] (2) /home/local/USHERBROOKE/dens1704/Documents/PyCaret_HAIM/venv/lib/python3.8/site-packages/xgboost/lib/libxgboost.so(+0x27e706) [0x7efdea756706]\n  [bt] (3) /home/local/USHERBROOKE/dens1704/Documents/PyCaret_HAIM/venv/lib/python3.8/site-packages/xgboost/lib/libxgboost.so(+0x220215) [0x7efdea6f8215]\n  [bt] (4) /home/local/USHERBROOKE/dens1704/Documents/PyCaret_HAIM/venv/lib/python3.8/site-packages/xgboost/lib/libxgboost.so(XGDMatrixCreateFromDense+0x329) [0x7efdea622eb9]\n  [bt] (5) /lib/x86_64-linux-gnu/libffi.so.7(+0x6ff5) [0x7efe0f2afff5]\n  [bt] (6) /lib/x86_64-linux-gnu/libffi.so.7(+0x640a) [0x7efe0f2af40a]\n  [bt] (7) /usr/lib/python3.8/lib-dynload/_ctypes.cpython-38-x86_64-linux-gnu.so(_ctypes_callproc+0x5b6) [0x7efe0f2f7306]\n  [bt] (8) /usr/lib/python3.8/lib-dynload/_ctypes.cpython-38-x86_64-linux-gnu.so(+0x139dc) [0x7efe0f2f79dc]\n\n\n\n--------------------------------------------------------------------------------\n1 fits failed with the following error:\nTraceback (most recent call last):\n  File \"/home/local/USHERBROOKE/dens1704/Documents/PyCaret_HAIM/venv/lib/python3.8/site-packages/sklearn/model_selection/_validation.py\", line 686, in _fit_and_score\n    estimator.fit(X_train, y_train, **fit_params)\n  File \"/home/local/USHERBROOKE/dens1704/Documents/PyCaret_HAIM/venv/lib/python3.8/site-packages/pycaret/internal/pipeline.py\", line 260, in fit\n    fitted_estimator = self._memory_fit(\n  File \"/home/local/USHERBROOKE/dens1704/Documents/PyCaret_HAIM/venv/lib/python3.8/site-packages/joblib/memory.py\", line 655, in __call__\n    return self._cached_call(args, kwargs)[0]\n  File \"/home/local/USHERBROOKE/dens1704/Documents/PyCaret_HAIM/venv/lib/python3.8/site-packages/pycaret/internal/memory.py\", line 398, in _cached_call\n    out, metadata = self.call(*args, **kwargs)\n  File \"/home/local/USHERBROOKE/dens1704/Documents/PyCaret_HAIM/venv/lib/python3.8/site-packages/pycaret/internal/memory.py\", line 309, in call\n    output = self.func(*args, **kwargs)\n  File \"/home/local/USHERBROOKE/dens1704/Documents/PyCaret_HAIM/venv/lib/python3.8/site-packages/pycaret/internal/pipeline.py\", line 66, in _fit_one\n    transformer.fit(*args, **fit_params)\n  File \"/home/local/USHERBROOKE/dens1704/Documents/PyCaret_HAIM/venv/lib/python3.8/site-packages/xgboost/core.py\", line 620, in inner_f\n    return func(**kwargs)\n  File \"/home/local/USHERBROOKE/dens1704/Documents/PyCaret_HAIM/venv/lib/python3.8/site-packages/xgboost/sklearn.py\", line 1471, in fit\n    train_dmatrix, evals = _wrap_evaluation_matrices(\n  File \"/home/local/USHERBROOKE/dens1704/Documents/PyCaret_HAIM/venv/lib/python3.8/site-packages/xgboost/sklearn.py\", line 448, in _wrap_evaluation_matrices\n    train_dmatrix = create_dmatrix(\n  File \"/home/local/USHERBROOKE/dens1704/Documents/PyCaret_HAIM/venv/lib/python3.8/site-packages/xgboost/sklearn.py\", line 908, in _create_dmatrix\n    return DMatrix(**kwargs, nthread=self.n_jobs)\n  File \"/home/local/USHERBROOKE/dens1704/Documents/PyCaret_HAIM/venv/lib/python3.8/site-packages/xgboost/core.py\", line 620, in inner_f\n    return func(**kwargs)\n  File \"/home/local/USHERBROOKE/dens1704/Documents/PyCaret_HAIM/venv/lib/python3.8/site-packages/xgboost/core.py\", line 743, in __init__\n    handle, feature_names, feature_types = dispatch_data_backend(\n  File \"/home/local/USHERBROOKE/dens1704/Documents/PyCaret_HAIM/venv/lib/python3.8/site-packages/xgboost/data.py\", line 970, in dispatch_data_backend\n    return _from_pandas_df(data, enable_categorical, missing, threads,\n  File \"/home/local/USHERBROOKE/dens1704/Documents/PyCaret_HAIM/venv/lib/python3.8/site-packages/xgboost/data.py\", line 420, in _from_pandas_df\n    return _from_numpy_array(data, missing, nthread, feature_names, feature_types)\n  File \"/home/local/USHERBROOKE/dens1704/Documents/PyCaret_HAIM/venv/lib/python3.8/site-packages/xgboost/data.py\", line 213, in _from_numpy_array\n    _check_call(\n  File \"/home/local/USHERBROOKE/dens1704/Documents/PyCaret_HAIM/venv/lib/python3.8/site-packages/xgboost/core.py\", line 279, in _check_call\n    raise XGBoostError(py_str(_LIB.XGBGetLastError()))\nxgboost.core.XGBoostError: [16:44:26] ../src/data/data.cc:1104: Check failed: valid: Input data contains `inf` or `nan`\nStack trace:\n  [bt] (0) /home/local/USHERBROOKE/dens1704/Documents/PyCaret_HAIM/venv/lib/python3.8/site-packages/xgboost/lib/libxgboost.so(+0x20b1e3) [0x7fdbff7211e3]\n  [bt] (1) /home/local/USHERBROOKE/dens1704/Documents/PyCaret_HAIM/venv/lib/python3.8/site-packages/xgboost/lib/libxgboost.so(+0x22ce51) [0x7fdbff742e51]\n  [bt] (2) /home/local/USHERBROOKE/dens1704/Documents/PyCaret_HAIM/venv/lib/python3.8/site-packages/xgboost/lib/libxgboost.so(+0x27e706) [0x7fdbff794706]\n  [bt] (3) /home/local/USHERBROOKE/dens1704/Documents/PyCaret_HAIM/venv/lib/python3.8/site-packages/xgboost/lib/libxgboost.so(+0x220215) [0x7fdbff736215]\n  [bt] (4) /home/local/USHERBROOKE/dens1704/Documents/PyCaret_HAIM/venv/lib/python3.8/site-packages/xgboost/lib/libxgboost.so(XGDMatrixCreateFromDense+0x329) [0x7fdbff660eb9]\n  [bt] (5) /lib/x86_64-linux-gnu/libffi.so.7(+0x6ff5) [0x7fdc247eaff5]\n  [bt] (6) /lib/x86_64-linux-gnu/libffi.so.7(+0x640a) [0x7fdc247ea40a]\n  [bt] (7) /usr/lib/python3.8/lib-dynload/_ctypes.cpython-38-x86_64-linux-gnu.so(_ctypes_callproc+0x5b6) [0x7fdc24832306]\n  [bt] (8) /usr/lib/python3.8/lib-dynload/_ctypes.cpython-38-x86_64-linux-gnu.so(+0x139dc) [0x7fdc248329dc]\n\n\n"
     ]
    }
   ],
   "source": [
    "exp_model = exp.create_model(MODEL)"
   ]
  },
  {
   "cell_type": "markdown",
   "metadata": {
    "pycharm": {
     "name": "#%% md\n"
    }
   },
   "source": [
    "## Tune model"
   ]
  },
  {
   "cell_type": "code",
   "execution_count": null,
   "metadata": {
    "pycharm": {
     "name": "#%%\n"
    }
   },
   "outputs": [],
   "source": [
    "exp_model = exp.tune_model(exp_model, custom_grid=TUNING_GRID, optimize=OPTIMIZE)"
   ]
  },
  {
   "cell_type": "markdown",
   "metadata": {
    "pycharm": {
     "name": "#%% md\n"
    }
   },
   "source": [
    "## Analyze model\n",
    "### AUC curve"
   ]
  },
  {
   "cell_type": "code",
   "execution_count": null,
   "metadata": {
    "pycharm": {
     "name": "#%%\n"
    }
   },
   "outputs": [],
   "source": [
    "exp.plot_model(exp_model, plot='auc')"
   ]
  },
  {
   "cell_type": "markdown",
   "metadata": {
    "pycharm": {
     "name": "#%% md\n"
    }
   },
   "source": [
    "### Feature importance"
   ]
  },
  {
   "cell_type": "code",
   "execution_count": null,
   "metadata": {
    "pycharm": {
     "name": "#%%\n"
    }
   },
   "outputs": [],
   "source": [
    "exp.plot_model(exp_model, plot='feature')"
   ]
  },
  {
   "cell_type": "markdown",
   "metadata": {
    "pycharm": {
     "name": "#%% md\n"
    }
   },
   "source": [
    "## Interpret model"
   ]
  },
  {
   "cell_type": "code",
   "execution_count": null,
   "metadata": {
    "pycharm": {
     "name": "#%%\n"
    }
   },
   "outputs": [],
   "source": [
    "exp.interpret_model(exp_model, plot='summary')"
   ]
  }
 ],
 "metadata": {
  "kernelspec": {
   "display_name": "Python 3 (ipykernel)",
   "language": "python",
   "name": "python3"
  },
  "language_info": {
   "codemirror_mode": {
    "name": "ipython",
    "version": 3
   },
   "file_extension": ".py",
   "mimetype": "text/x-python",
   "name": "python",
   "nbconvert_exporter": "python",
   "pygments_lexer": "ipython3",
   "version": "3.8.10"
  }
 },
 "nbformat": 4,
 "nbformat_minor": 1
}
